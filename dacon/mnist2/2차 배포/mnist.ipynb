{
 "cells": [
  {
   "cell_type": "code",
   "execution_count": null,
   "metadata": {},
   "outputs": [],
   "source": [
    "import tensorflow as tf\n",
    "import numpy as np\n",
    "import matplotlib.pyplot as plt\n",
    "import pandas as pd\n",
    "import cv2\n",
    "\n",
    "from tensorflow.keras.preprocessing.image import ImageDataGenerator\n",
    "from tensorflow.keras import Input,models,layers,optimizers,metrics\n",
    "from tensorflow.keras.layers import Dense,Flatten\n",
    "from tensorflow.keras.applications import EfficientNetB7\n",
    "from sklearn.model_selection import train_test_split\n",
    "from tensorflow.keras.callbacks import EarlyStopping,ModelCheckpoint,ReduceLROnPlateau\n",
    "from tensorflow.keras.optimizers import Adam\n",
    "\n",
    "cp = ModelCheckpoint(monitor = 'val_loss',filepath = \"C:/Users/Administrator/Downloads/mnist/models/Effi7.h5\",save_best_only=True)\n",
    "cp_ = ModelCheckpoint(monitor = 'val_accuracy',filepath = \"C:/Users/Administrator/Downloads/mnist/models/Effi7_acc.h5\",save_best_only=True)\n",
    "es = EarlyStopping(monitor = 'val_loss',patience=15)\n",
    "lr = ReduceLROnPlateau(monitor = 'val_loss',patience=6)\n",
    "optimizer = Adam(lr=0.02)\n",
    "\n",
    "\n",
    "train_datagen = ImageDataGenerator(rescale=1./255,horizontal_flip = True,width_shift_range=0.1,height_shift_range=0.1,fill_mode='nearest')\n",
    "val_datagen = ImageDataGenerator(rescale=1./255,horizontal_flip = True,width_shift_range=0.1,height_shift_range=0.1,fill_mode='nearest')\n",
    "# train_generator = train_datagen.flow_from_directory('C:/Users/Administrator/Downloads/mnist/dirty_mnist_2nd/',target_size=(150,150),batch_size=4,class_mode='binary')\n",
    "test_datagen = ImageDataGenerator(rescale=1./255,horizontal_flip = True,width_shift_range=0.1,height_shift_range=0.1,fill_mode='nearest')\n",
    "# test_generator = test_datagen.flow_from_directory('C:/Users/Administrator/Downloads/mnist/test_dirty_mnist_2nd/',target_size=(150,150),batch_size=4,class_mode='binary')\n",
    "\n",
    "transfer_model = EfficientNetB7(weights='imagenet',include_top=False,input_shape=(256,256,3))\n",
    "transfer_model.trainable=False\n",
    "\n",
    "model = models.Sequential()\n",
    "model.add(transfer_model)\n",
    "model.add(Flatten())\n",
    "model.add(Dense(52,activation='relu'))\n",
    "model.add(Dense(26,activation='sigmoid'))"
   ]
  },
  {
   "cell_type": "code",
   "execution_count": null,
   "metadata": {},
   "outputs": [],
   "source": [
    "import numpy as np\n",
    "import cv2"
   ]
  },
  {
   "cell_type": "code",
   "execution_count": null,
   "metadata": {},
   "outputs": [],
   "source": [
    "def read_data(train=True):\n",
    "    result = []\n",
    "    if train:\n",
    "        for i in range(50000):\n",
    "            imgpath = \"C:/Users/Administrator/Downloads/mnist/dirty_mnist_2nd/{}.png\".format(str((5-len(str(i)))*'0')+str(i))\n",
    "            img = cv2.imread(imgpath,cv2.IMREAD_GRAYSCALE)\n",
    "            img = cv2.cvtColor(img,cv2.COLOR_BGR2RGB)\n",
    "            result.append(img)\n",
    "        return np.array(result).reshape(-1,256,256,3)/255.0\n",
    "    else:\n",
    "        for i in range(5000):\n",
    "            imgpath=\"C:/Users/Administrator/Downloads/mnist/test_dirty_mnist_2nd/{}.png\".format(str(50000+i))\n",
    "            img = cv2.imread(imgpath,cv2.IMREAD_GRAYSCALE)\n",
    "            img = cv2.cvtColor(img,cv2.COLOR_BGR2RGB)\n",
    "            result.append(img)\n",
    "        return np.array(result).reshape(-1,256,256,3)/255.0\n",
    "    \n",
    "x = read_data()\n",
    "np.save('C:/Users/Administrator/Downloads/mnist/npy_x_all.npy',arr=x)\n",
    "df = pd.read_csv(\"C:/Users/Administrator/Downloads/mnist/dirty_mnist_2nd_answer.csv\",index_col=0)\n",
    "y = df.values\n",
    "x_train,x_val = train_test_split(x,test_size=0.15)\n",
    "x_train,x_val,y_train,y_val = train_test_split(x,y,test_size=0.15)"
   ]
  },
  {
   "cell_type": "code",
   "execution_count": null,
   "metadata": {},
   "outputs": [],
   "source": [
    "np.save('C:/Users/Administrator/Downloads/mnist/npy_x_all.npy',arr=x)\n",
    "# np.save('C:/Users/Administrator/Downloads/mnist/npy_y_all.npy',arr=y)"
   ]
  },
  {
   "cell_type": "code",
   "execution_count": null,
   "metadata": {},
   "outputs": [],
   "source": [
    "np.save('C:/Users/Administrator/Downloads/mnist/npy_x_train.npy',arr=x_train)\n",
    "# np.save('C:/Users/Administrator/Downloads/mnist/npy_y_train.npy',arr=y_train)\n",
    "np.save('C:/Users/Administrator/Downloads/mnist/npy_x_val.npy',arr=x_val)\n",
    "# np.save('C:/Users/Administrator/Downloads/mnist/npy_y_val.npy',arr=y_val)"
   ]
  },
  {
   "cell_type": "code",
   "execution_count": null,
   "metadata": {},
   "outputs": [],
   "source": [
    "x.shape,y.shape"
   ]
  },
  {
   "cell_type": "code",
   "execution_count": null,
   "metadata": {},
   "outputs": [],
   "source": [
    "train_generator = train_datagen.flow(x_train,y_train,batch_size=16)\n",
    "val_generator = val_datagen.flow(x_val,y_val)\n",
    "\n",
    "model.compile(loss = 'binary_crossentropy',optimizer = Adam,metrics=['accuracy'])\n",
    "model.fit_generator(train_generator,validation_data = val_generator,epochs=100,callbacks = [es,lr,cp,cp_])"
   ]
  },
  {
   "cell_type": "code",
   "execution_count": null,
   "metadata": {},
   "outputs": [],
   "source": []
  },
  {
   "cell_type": "code",
   "execution_count": null,
   "metadata": {},
   "outputs": [],
   "source": []
  }
 ],
 "metadata": {
  "kernelspec": {
   "display_name": "Python 3",
   "language": "python",
   "name": "python3"
  },
  "language_info": {
   "codemirror_mode": {
    "name": "ipython",
    "version": 3
   },
   "file_extension": ".py",
   "mimetype": "text/x-python",
   "name": "python",
   "nbconvert_exporter": "python",
   "pygments_lexer": "ipython3",
   "version": "3.8.5"
  }
 },
 "nbformat": 4,
 "nbformat_minor": 4
}
