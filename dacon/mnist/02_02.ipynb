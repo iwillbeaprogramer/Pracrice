{
 "cells": [
  {
   "cell_type": "code",
   "execution_count": 1,
   "metadata": {},
   "outputs": [],
   "source": [
    "import numpy as np\n",
    "import pandas as pd\n",
    "import matplotlib.pyplot as plt\n",
    "from tensorflow.keras.layers import Conv2D,MaxPooling2D,BatchNormalization,Flatten,Dropout,Input,Activation,Dense\n",
    "from tensorflow.keras.models import Sequential,Model,load_model\n",
    "from sklearn.decomposition import PCA\n",
    "from sklearn.preprocessing import OneHotEncoder\n",
    "from tensorflow.keras.callbacks import EarlyStopping,ModelCheckpoint\n",
    "from sklearn.model_selection import train_test_split"
   ]
  },
  {
   "cell_type": "code",
   "execution_count": 2,
   "metadata": {},
   "outputs": [
    {
     "name": "stdout",
     "output_type": "stream",
     "text": [
      "(2048, 784) (2048,)\n",
      "(1740, 28, 28, 1) (308, 28, 28, 1) (1740, 10) (308, 10)\n"
     ]
    }
   ],
   "source": [
    "modelpath = './models/02_02___.h5'\n",
    "es = EarlyStopping(monitor='val_loss',patience=100)\n",
    "cp = ModelCheckpoint(monitor = 'val_loss',filepath=modelpath)\n",
    "\n",
    "#df = pd.read_csv(\"train.csv\",index_col=[0])\n",
    "df = pd.read_csv(\"train.csv\",index_col=[0])\n",
    "y = df.values[:,0]\n",
    "x = df.values[:,2:].astype('float32')/255.0#.reshape(-1,28,28)\n",
    "print(x.shape,y.shape)\n",
    "# (2048, 28, 28) (2048,)\n",
    "\n",
    "#pca = PCA()\n",
    "#pca.fit(x)\n",
    "#cumsum = np.cumsum(pca.explained_variance_ratio_)\n",
    "#d = np.argmax(cumsum>0.991)+1 # 0.991 에서 d는 289=17^2\n",
    "#print(d)\n",
    "#pca1 = PCA(n_components=d)\n",
    "#x = pca1.fit_transform(x)\n",
    "onehot = OneHotEncoder()\n",
    "y = onehot.fit_transform(y.reshape(-1,1)).toarray().astype('float32')\n",
    "\n",
    "x_train,x_val,y_train,y_val = train_test_split(x,y,test_size=0.15)\n",
    "x_train = x_train.reshape(-1,28,28,1)#[:,2:26,2:26,:]\n",
    "x_val = x_val.reshape(-1,28,28,1)#[:,2:26,2:26,:]\n",
    "print(x_train.shape,x_val.shape,y_train.shape,y_val.shape)\n"
   ]
  },
  {
   "cell_type": "code",
   "execution_count": null,
   "metadata": {},
   "outputs": [
    {
     "name": "stdout",
     "output_type": "stream",
     "text": [
      "(2048, 784) (2048,)\n",
      "(1740, 28, 28, 1) (308, 28, 28, 1) (1740, 10) (308, 10)\n",
      "<class 'numpy.ndarray'> <class 'numpy.ndarray'> <class 'numpy.ndarray'> <class 'numpy.ndarray'>\n",
      "Epoch 1/300\n",
      "434/435 [============================>.] - ETA: 0s - loss: 3.2840 - accuracy: 0.1066WARNING:tensorflow:Callbacks method `on_test_batch_end` is slow compared to the batch time (batch time: 0.0000s vs `on_test_batch_end` time: 0.0156s). Check your callbacks.\n",
      "435/435 [==============================] - 17s 40ms/step - loss: 3.2818 - accuracy: 0.1063 - val_loss: 19.2954 - val_accuracy: 0.0747\n",
      "Epoch 2/300\n",
      " 59/435 [===>..........................] - ETA: 12s - loss: 2.3460 - accuracy: 0.1271"
     ]
    }
   ],
   "source": [
    "import numpy as np\n",
    "import pandas as pd\n",
    "import matplotlib.pyplot as plt\n",
    "from tensorflow.keras.layers import Conv2D,MaxPooling2D,BatchNormalization,Flatten,Dropout,Input,Activation,Dense\n",
    "from tensorflow.keras.models import Sequential,Model,load_model\n",
    "from sklearn.decomposition import PCA\n",
    "from sklearn.preprocessing import OneHotEncoder\n",
    "from tensorflow.keras.callbacks import EarlyStopping,ModelCheckpoint\n",
    "from sklearn.model_selection import train_test_split\n",
    "\n",
    "modelpath = './models/test_loss.h5'\n",
    "es = EarlyStopping(monitor='val_loss',patience=100)\n",
    "cp = ModelCheckpoint(monitor = 'val_loss',filepath=modelpath,save_best_only=True)\n",
    "cp2 = ModelCheckpoint(monitor = 'val_accuracy',filepath='./models/test_accuracy.h5',save_best_only=True)\n",
    "\n",
    "#df = pd.read_csv(\"train.csv\",index_col=[0])\n",
    "df = pd.read_csv(\"train.csv\",index_col=[0])\n",
    "y = df.values[:,0]\n",
    "x = df.values[:,2:].astype('float32')/255.0#.reshape(-1,28,28)\n",
    "print(x.shape,y.shape)\n",
    "# (2048, 28, 28) (2048,)\n",
    "\n",
    "#pca = PCA()\n",
    "#pca.fit(x)\n",
    "#cumsum = np.cumsum(pca.explained_variance_ratio_)\n",
    "#d = np.argmax(cumsum>0.991)+1 # 0.991 에서 d는 289=17^2\n",
    "#print(d)\n",
    "#pca1 = PCA(n_components=d)\n",
    "#x = pca1.fit_transform(x)\n",
    "# onehot = OneHotEncoder()\n",
    "y = onehot.fit_transform(y.reshape(-1,1)).toarray().astype('float32')\n",
    "\n",
    "x_train,x_val,y_train,y_val = train_test_split(x,y,test_size=0.15)\n",
    "x_train = x_train.reshape(-1,28,28,1)#[:,2:26,2:26,:]\n",
    "x_val = x_val.reshape(-1,28,28,1)#[:,2:26,2:26,:]\n",
    "print(x_train.shape,x_val.shape,y_train.shape,y_val.shape)\n",
    "\n",
    "inputs = Input(shape=(28,28,1))\n",
    "x = inputs\n",
    "_x = Conv2D(128,3,padding='same')(x)\n",
    "_x = BatchNormalization()(_x)\n",
    "_x = Activation('relu')(_x)\n",
    "_x = Conv2D(256,3,padding='same')(_x)\n",
    "_x = BatchNormalization()(_x)\n",
    "_x = Activation('relu')(_x)\n",
    "_x = Conv2D(512,3,padding='same')(_x)\n",
    "_x = BatchNormalization()(_x)\n",
    "_x = Activation('relu')(_x)\n",
    "_x = Conv2D(128,3,padding='same')(_x)\n",
    "_x = BatchNormalization()(_x)\n",
    "_x = Activation('relu')(_x)\n",
    "x = _x\n",
    "_x = Conv2D(128,3,padding='same')(x)\n",
    "_x = BatchNormalization()(_x)\n",
    "_x = Activation('relu')(_x)\n",
    "_x = Conv2D(256,3,padding='same')(_x)\n",
    "_x = BatchNormalization()(_x)\n",
    "_x = Activation('relu')(_x)\n",
    "_x = Conv2D(512,3,padding='same')(_x)\n",
    "_x = BatchNormalization()(_x)\n",
    "_x = Activation('relu')(_x)\n",
    "_x = Conv2D(128,3,padding='same')(_x)\n",
    "_x = BatchNormalization()(_x)\n",
    "_x = Activation('relu')(_x)\n",
    "x = x+_x\n",
    "x = MaxPooling2D(2)(x)\n",
    "_x = Conv2D(128,3,padding='same')(x)\n",
    "_x = BatchNormalization()(_x)\n",
    "_x = Activation('relu')(_x)\n",
    "_x = Conv2D(256,3,padding='same')(_x)\n",
    "_x = BatchNormalization()(_x)\n",
    "_x = Activation('relu')(_x)\n",
    "_x = Conv2D(512,3,padding='same')(x)\n",
    "_x = BatchNormalization()(_x)\n",
    "_x = Activation('relu')(_x)\n",
    "_x = Conv2D(128,3,padding='same')(_x)\n",
    "_x = BatchNormalization()(_x)\n",
    "_x = Activation('relu')(_x)\n",
    "x = x+_x\n",
    "x = MaxPooling2D(2)(x)\n",
    "_x = Conv2D(128,3,padding='same')(x)\n",
    "_x = BatchNormalization()(_x)\n",
    "_x = Activation('relu')(_x)\n",
    "_x = Conv2D(256,3,padding='same')(_x)\n",
    "_x = BatchNormalization()(_x)\n",
    "_x = Activation('relu')(_x)\n",
    "_x = Conv2D(512,3,padding='same')(x)\n",
    "_x = BatchNormalization()(_x)\n",
    "_x = Activation('relu')(_x)\n",
    "_x = Conv2D(128,3,padding='same')(_x)\n",
    "_x = BatchNormalization()(_x)\n",
    "_x = Activation('relu')(_x)\n",
    "x = x+_x\n",
    "x = MaxPooling2D(2)(x)\n",
    "_x = Conv2D(512,3,padding='same')(x)\n",
    "_x = BatchNormalization()(_x)\n",
    "_x = Activation('relu')(_x)\n",
    "_x = Conv2D(128,3,padding='same')(_x)\n",
    "_x = BatchNormalization()(_x)\n",
    "_x = Activation('relu')(_x)\n",
    "_x = Conv2D(128,3,padding='same')(_x)\n",
    "_x = BatchNormalization()(_x)\n",
    "_x = Activation('relu')(_x)\n",
    "x = x+_x\n",
    "x = MaxPooling2D(2)(x)\n",
    "x = Flatten()(x)\n",
    "x = Dense(2048)(x)\n",
    "x = Dense(10,activation='softmax')(x)\n",
    "outputs=x\n",
    "model = Model(inputs=inputs,outputs=outputs)\n",
    "\n",
    "# # 기존 내꺼\n",
    "# # inputs = Input(shape = (28,28,1))\n",
    "# # layers = Conv2D(filters = 2048,kernel_size=3)(inputs)\n",
    "# # layers = Conv2D(filters = 1024,kernel_size=3)(layers)\n",
    "# # layers = BatchNormalization()(layers)\n",
    "# # layers = Activation('relu')(layers)\n",
    "# # layers = MaxPooling2D(pool_size=2)(layers)\n",
    "# # layers = Conv2D(filters = 256,kernel_size=2)(inputs)\n",
    "# # layers = BatchNormalization()(layers)\n",
    "# # layers = Activation('relu')(layers)\n",
    "# # layers = MaxPooling2D(pool_size=2)(layers)\n",
    "# # layers = Conv2D(filters = 64,kernel_size=2)(layers)\n",
    "# # layers = BatchNormalization()(layers)\n",
    "# # layers = Activation('relu')(layers)\n",
    "# # layers = MaxPooling2D(pool_size=2)(layers)\n",
    "# # layers = Conv2D(filters = 16,kernel_size=2)(layers)\n",
    "# # layers = BatchNormalization()(layers)\n",
    "# # layers = Activation('relu')(layers)\n",
    "# # layers = Flatten()(layers)\n",
    "# # layers = Dense(2048,activation='relu')(layers)\n",
    "# # outputs = Dense(10,activation='softmax')(layers)\n",
    "# # model = Model(inputs=inputs,outputs=outputs)\n",
    "print(type(x_train),type(x_val),type(y_train),type(y_val))\n",
    "\n",
    "model.compile(loss = 'categorical_crossentropy',optimizer = 'adam',metrics=['accuracy'])\n",
    "model.fit(x_train,y_train,validation_data = (x_val,y_val),epochs=300,callbacks=[cp,es,cp2],batch_size=4)"
   ]
  },
  {
   "cell_type": "code",
   "execution_count": null,
   "metadata": {},
   "outputs": [],
   "source": [
    "'''\n",
    "inputs = Input(shape=(28,28,1))\n",
    "x = inputs\n",
    "_x = Conv2D(128,3,padding='same')(x)\n",
    "_x = BatchNormalization()(_x)\n",
    "_x = Activation('relu')(_x)\n",
    "_x = Conv2D(256,3,padding='same')(_x)\n",
    "_x = BatchNormalization()(_x)\n",
    "_x = Activation('relu')(_x)\n",
    "_x = Conv2D(512,3,padding='same')(_x)\n",
    "_x = BatchNormalization()(_x)\n",
    "_x = Activation('relu')(_x)\n",
    "_x = Conv2D(128,3,padding='same')(_x)\n",
    "_x = BatchNormalization()(_x)\n",
    "_x = Activation('relu')(_x)\n",
    "x = _x\n",
    "_x = Conv2D(128,3,padding='same')(x)\n",
    "_x = BatchNormalization()(_x)\n",
    "_x = Activation('relu')(_x)\n",
    "_x = Conv2D(256,3,padding='same')(_x)\n",
    "_x = BatchNormalization()(_x)\n",
    "_x = Activation('relu')(_x)\n",
    "_x = Conv2D(512,3,padding='same')(_x)\n",
    "_x = BatchNormalization()(_x)\n",
    "_x = Activation('relu')(_x)\n",
    "_x = Conv2D(128,3,padding='same')(_x)\n",
    "_x = BatchNormalization()(_x)\n",
    "_x = Activation('relu')(_x)\n",
    "x = x+_x\n",
    "x = MaxPooling2D(2)(x)\n",
    "_x = Conv2D(128,3,padding='same')(x)\n",
    "_x = BatchNormalization()(_x)\n",
    "_x = Activation('relu')(_x)\n",
    "_x = Conv2D(256,3,padding='same')(_x)\n",
    "_x = BatchNormalization()(_x)\n",
    "_x = Activation('relu')(_x)\n",
    "_x = Conv2D(512,3,padding='same')(x)\n",
    "_x = BatchNormalization()(_x)\n",
    "_x = Activation('relu')(_x)\n",
    "_x = Conv2D(128,3,padding='same')(_x)\n",
    "_x = BatchNormalization()(_x)\n",
    "_x = Activation('relu')(_x)\n",
    "x = x+_x\n",
    "x = MaxPooling2D(2)(x)\n",
    "_x = Conv2D(128,3,padding='same')(x)\n",
    "_x = BatchNormalization()(_x)\n",
    "_x = Activation('relu')(_x)\n",
    "_x = Conv2D(256,3,padding='same')(_x)\n",
    "_x = BatchNormalization()(_x)\n",
    "_x = Activation('relu')(_x)\n",
    "_x = Conv2D(512,3,padding='same')(x)\n",
    "_x = BatchNormalization()(_x)\n",
    "_x = Activation('relu')(_x)\n",
    "_x = Conv2D(128,3,padding='same')(_x)\n",
    "_x = BatchNormalization()(_x)\n",
    "_x = Activation('relu')(_x)\n",
    "x = x+_x\n",
    "x = MaxPooling2D(2)(x)\n",
    "_x = Conv2D(512,3,padding='same')(x)\n",
    "_x = BatchNormalization()(_x)\n",
    "_x = Activation('relu')(_x)\n",
    "_x = Conv2D(128,3,padding='same')(_x)\n",
    "_x = BatchNormalization()(_x)\n",
    "_x = Activation('relu')(_x)\n",
    "_x = Conv2D(128,3,padding='same')(_x)\n",
    "_x = BatchNormalization()(_x)\n",
    "_x = Activation('relu')(_x)\n",
    "x = x+_x\n",
    "x = MaxPooling2D(2)(x)\n",
    "x = Flatten()(x)\n",
    "x = Dense(2048)(x)\n",
    "x = Dense(10,activation='softmax')(x)\n",
    "outputs=x\n",
    "model = Model(inputs=inputs,outputs=outputs)\n",
    "\n",
    "'''"
   ]
  },
  {
   "cell_type": "code",
   "execution_count": null,
   "metadata": {},
   "outputs": [],
   "source": [
    "'''\n",
    "0.87\n",
    "inputs = Input(shape=(28,28,1))\n",
    "x = inputs\n",
    "_x = Conv2D(128,3,padding='same')(x)\n",
    "_x = BatchNormalization()(_x)\n",
    "_x = Activation('relu')(_x)\n",
    "_x = Conv2D(128,3,padding='same')(_x)\n",
    "_x = BatchNormalization()(_x)\n",
    "_x = Activation('relu')(_x)\n",
    "_x = Conv2D(256,3,padding='same')(_x)\n",
    "_x = BatchNormalization()(_x)\n",
    "_x = Activation('relu')(_x)\n",
    "_x = Conv2D(128,3,padding='same')(_x)\n",
    "_x = BatchNormalization()(_x)\n",
    "_x = Activation('relu')(_x)\n",
    "x = _x\n",
    "_x = Conv2D(128,3,padding='same')(x)\n",
    "_x = BatchNormalization()(_x)\n",
    "_x = Activation('relu')(_x)\n",
    "_x = Conv2D(128,3,padding='same')(_x)\n",
    "_x = BatchNormalization()(_x)\n",
    "_x = Activation('relu')(_x)\n",
    "_x = Conv2D(256,3,padding='same')(_x)\n",
    "_x = BatchNormalization()(_x)\n",
    "_x = Activation('relu')(_x)\n",
    "_x = Conv2D(128,3,padding='same')(_x)\n",
    "_x = BatchNormalization()(_x)\n",
    "_x = Activation('relu')(_x)\n",
    "x = x+_x\n",
    "x = MaxPooling2D(2)(x)\n",
    "_x = Conv2D(128,3,padding='same')(x)\n",
    "_x = BatchNormalization()(_x)\n",
    "_x = Activation('relu')(_x)\n",
    "_x = Conv2D(128,3,padding='same')(_x)\n",
    "_x = BatchNormalization()(_x)\n",
    "_x = Activation('relu')(_x)\n",
    "_x = Conv2D(256,3,padding='same')(x)\n",
    "_x = BatchNormalization()(_x)\n",
    "_x = Activation('relu')(_x)\n",
    "_x = Conv2D(128,3,padding='same')(_x)\n",
    "_x = BatchNormalization()(_x)\n",
    "_x = Activation('relu')(_x)\n",
    "x = x+_x\n",
    "x = MaxPooling2D(2)(x)\n",
    "_x = Conv2D(128,3,padding='same')(x)\n",
    "_x = BatchNormalization()(_x)\n",
    "_x = Activation('relu')(_x)\n",
    "_x = Conv2D(128,3,padding='same')(_x)\n",
    "_x = BatchNormalization()(_x)\n",
    "_x = Activation('relu')(_x)\n",
    "_x = Conv2D(256,3,padding='same')(x)\n",
    "_x = BatchNormalization()(_x)\n",
    "_x = Activation('relu')(_x)\n",
    "_x = Conv2D(128,3,padding='same')(_x)\n",
    "_x = BatchNormalization()(_x)\n",
    "_x = Activation('relu')(_x)\n",
    "x = x+_x\n",
    "x = MaxPooling2D(2)(x)\n",
    "_x = Conv2D(512,3,padding='same')(x)\n",
    "_x = BatchNormalization()(_x)\n",
    "_x = Activation('relu')(_x)\n",
    "_x = Conv2D(128,3,padding='same')(_x)\n",
    "_x = BatchNormalization()(_x)\n",
    "_x = Activation('relu')(_x)\n",
    "_x = Conv2D(128,3,padding='same')(_x)\n",
    "_x = BatchNormalization()(_x)\n",
    "_x = Activation('relu')(_x)\n",
    "x = x+_x\n",
    "x = MaxPooling2D(2)(x)\n",
    "x = Flatten()(x)\n",
    "x = Dense(2048)(x)\n",
    "x = Dense(10,activation='softmax')(x)\n",
    "outputs=x\n",
    "model = Model(inputs=inputs,outputs=outputs)\n",
    "'''"
   ]
  },
  {
   "cell_type": "code",
   "execution_count": null,
   "metadata": {},
   "outputs": [],
   "source": [
    "'''\n",
    "inputs = Input(shape=(28,28,1))\n",
    "x = inputs\n",
    "_x = Conv2D(128,3,padding='same')(x)\n",
    "_x = BatchNormalization()(_x)\n",
    "_x = Activation('relu')(_x)\n",
    "_x = Conv2D(256,3,padding='same')(_x)\n",
    "_x = BatchNormalization()(_x)\n",
    "_x = Activation('relu')(_x)\n",
    "_x = Conv2D(128,3,padding='same')(_x)\n",
    "_x = BatchNormalization()(_x)\n",
    "_x = Activation('relu')(_x)\n",
    "x = _x\n",
    "_x = Conv2D(128,3,padding='same')(x)\n",
    "_x = BatchNormalization()(_x)\n",
    "_x = Activation('relu')(_x)\n",
    "_x = Conv2D(256,3,padding='same')(_x)\n",
    "_x = BatchNormalization()(_x)\n",
    "_x = Activation('relu')(_x)\n",
    "_x = Conv2D(128,3,padding='same')(_x)\n",
    "_x = BatchNormalization()(_x)\n",
    "_x = Activation('relu')(_x)\n",
    "x = x+_x\n",
    "_x = Conv2D(128,3,padding='same')(x)\n",
    "_x = BatchNormalization()(_x)\n",
    "_x = Activation('relu')(_x)\n",
    "_x = Conv2D(256,3,padding='same')(_x)\n",
    "_x = BatchNormalization()(_x)\n",
    "_x = Activation('relu')(_x)\n",
    "_x = Conv2D(128,3,padding='same')(_x)\n",
    "_x = BatchNormalization()(_x)\n",
    "_x = Activation('relu')(_x)\n",
    "x = x+_x\n",
    "_x = Conv2D(128,3,padding='same')(x)\n",
    "_x = BatchNormalization()(_x)\n",
    "_x = Activation('relu')(_x)\n",
    "_x = Conv2D(256,3,padding='same')(_x)\n",
    "_x = BatchNormalization()(_x)\n",
    "_x = Activation('relu')(_x)\n",
    "_x = Conv2D(128,3,padding='same')(_x)\n",
    "_x = BatchNormalization()(_x)\n",
    "_x = Activation('relu')(_x)\n",
    "x = x+_x\n",
    "x = MaxPooling2D(2)(x)\n",
    "_x = Conv2D(128,3,padding='same')(x)\n",
    "_x = BatchNormalization()(_x)\n",
    "_x = Activation('relu')(_x)\n",
    "_x = Conv2D(256,3,padding='same')(x)\n",
    "_x = BatchNormalization()(_x)\n",
    "_x = Activation('relu')(_x)\n",
    "_x = Conv2D(128,3,padding='same')(_x)\n",
    "_x = BatchNormalization()(_x)\n",
    "_x = Activation('relu')(_x)\n",
    "x = x+_x\n",
    "x = MaxPooling2D(2)(x)\n",
    "_x = Conv2D(128,3,padding='same')(x)\n",
    "_x = BatchNormalization()(_x)\n",
    "_x = Activation('relu')(_x)\n",
    "_x = Conv2D(256,3,padding='same')(x)\n",
    "_x = BatchNormalization()(_x)\n",
    "_x = Activation('relu')(_x)\n",
    "_x = Conv2D(128,3,padding='same')(_x)\n",
    "_x = BatchNormalization()(_x)\n",
    "_x = Activation('relu')(_x)\n",
    "x = x+_x\n",
    "x = MaxPooling2D(2)(x)\n",
    "_x = Conv2D(512,3,padding='same')(x)\n",
    "_x = BatchNormalization()(_x)\n",
    "_x = Activation('relu')(_x)\n",
    "_x = Conv2D(128,3,padding='same')(_x)\n",
    "_x = BatchNormalization()(_x)\n",
    "_x = Activation('relu')(_x)\n",
    "x = x+_x\n",
    "x = MaxPooling2D(2)(x)\n",
    "x = Flatten()(x)\n",
    "x = Dense(2048)(x)\n",
    "x = Dense(10,activation='softmax')(x)\n",
    "outputs=x\n",
    "model = Model(inputs=inputs,outputs=outputs)\n",
    "'''"
   ]
  },
  {
   "cell_type": "code",
   "execution_count": 10,
   "metadata": {},
   "outputs": [
    {
     "data": {
      "text/plain": [
       "(20480, 28, 28)"
      ]
     },
     "execution_count": 10,
     "metadata": {},
     "output_type": "execute_result"
    }
   ],
   "source": [
    "model = load_model('./models/02_03_imger_best_index_4.h5')\n",
    "df = pd.read_csv(\"test.csv\",index_col=[0])\n",
    "x_test = df.values[:,1:].reshape(-1,28,28).astype('float32')/255.0\n",
    "x_test.shape"
   ]
  },
  {
   "cell_type": "code",
   "execution_count": 11,
   "metadata": {},
   "outputs": [
    {
     "data": {
      "text/plain": [
       "array([6, 9, 8, ..., 6, 3, 0], dtype=int64)"
      ]
     },
     "execution_count": 11,
     "metadata": {},
     "output_type": "execute_result"
    }
   ],
   "source": [
    "y_pred = model.predict(x_test)\n",
    "y_pred = np.argmax(y_pred,axis=-1)\n",
    "df_sub = pd.read_csv('submission.csv',index_col=0)\n",
    "df_sub['digit'] = y_pred\n",
    "df_sub.to_csv('k_fold_4.csv')\n",
    "y_pred"
   ]
  },
  {
   "cell_type": "code",
   "execution_count": 26,
   "metadata": {},
   "outputs": [
    {
     "name": "stdout",
     "output_type": "stream",
     "text": [
      "0\n",
      "1\n",
      "2\n",
      "3\n",
      "4\n",
      "5\n",
      "6\n",
      "7\n",
      "8\n",
      "9\n"
     ]
    }
   ],
   "source": [
    "binary_model = []\n",
    "for i in range(0,10):\n",
    "    print(i)\n",
    "    model = load_model('./binary_models/{}_binary.h5'.format(i))\n",
    "    binary_model.append(model)\n",
    "\n"
   ]
  },
  {
   "cell_type": "code",
   "execution_count": 31,
   "metadata": {},
   "outputs": [],
   "source": [
    "y_pred = model.predict(x_test)\n",
    "\n",
    "def ordering(array):\n",
    "    temp = array.copy()\n",
    "    result = []\n",
    "    for i in range(len(temp)):\n",
    "        sol = np.argmax(temp)\n",
    "        result.append(sol)\n",
    "        temp[sol]=0\n",
    "    return np.array(result)"
   ]
  },
  {
   "cell_type": "code",
   "execution_count": 32,
   "metadata": {},
   "outputs": [
    {
     "data": {
      "text/plain": [
       "array([[7.6569414e-08, 2.2260668e-08, 4.6740688e-06, ..., 2.5446711e-10,\n",
       "        5.9703314e-07, 5.4656005e-11],\n",
       "       [2.9817595e-16, 2.0647546e-12, 4.4424861e-16, ..., 2.6480063e-10,\n",
       "        8.9294266e-11, 1.0000000e+00],\n",
       "       [2.4707546e-05, 1.3310514e-01, 8.9886552e-03, ..., 9.1972132e-04,\n",
       "        1.2284001e-02, 2.9377347e-06],\n",
       "       ...,\n",
       "       [8.6063210e-09, 7.5784501e-10, 2.6377617e-10, ..., 3.1178827e-13,\n",
       "        1.2005766e-07, 6.1626551e-15],\n",
       "       [1.0054513e-03, 2.9064235e-01, 1.6038346e-05, ..., 1.7447629e-06,\n",
       "        8.1512779e-03, 4.5916289e-03],\n",
       "       [9.9825722e-01, 6.9838888e-16, 2.4161539e-10, ..., 1.8471900e-15,\n",
       "        6.6174334e-13, 1.4705076e-15]], dtype=float32)"
      ]
     },
     "execution_count": 32,
     "metadata": {},
     "output_type": "execute_result"
    }
   ],
   "source": [
    "y_pred"
   ]
  },
  {
   "cell_type": "code",
   "execution_count": 4,
   "metadata": {},
   "outputs": [
    {
     "ename": "NameError",
     "evalue": "name 'y_pred' is not defined",
     "output_type": "error",
     "traceback": [
      "\u001b[1;31m---------------------------------------------------------------------------\u001b[0m",
      "\u001b[1;31mNameError\u001b[0m                                 Traceback (most recent call last)",
      "\u001b[1;32m<ipython-input-4-b90be39326c9>\u001b[0m in \u001b[0;36m<module>\u001b[1;34m\u001b[0m\n\u001b[1;32m----> 1\u001b[1;33m \u001b[0my_notyet\u001b[0m \u001b[1;33m=\u001b[0m \u001b[0mnp\u001b[0m\u001b[1;33m.\u001b[0m\u001b[0margmax\u001b[0m\u001b[1;33m(\u001b[0m\u001b[0my_pred\u001b[0m\u001b[1;33m,\u001b[0m\u001b[0maxis\u001b[0m\u001b[1;33m=\u001b[0m\u001b[1;33m-\u001b[0m\u001b[1;36m1\u001b[0m\u001b[1;33m)\u001b[0m\u001b[1;33m\u001b[0m\u001b[1;33m\u001b[0m\u001b[0m\n\u001b[0m\u001b[0;32m      2\u001b[0m \u001b[0my_notyet\u001b[0m\u001b[1;33m\u001b[0m\u001b[1;33m\u001b[0m\u001b[0m\n",
      "\u001b[1;31mNameError\u001b[0m: name 'y_pred' is not defined"
     ]
    }
   ],
   "source": [
    "y_notyet = np.argmax(y_pred,axis=-1)\n",
    "y_notyet\n"
   ]
  },
  {
   "cell_type": "code",
   "execution_count": 15,
   "metadata": {},
   "outputs": [
    {
     "data": {
      "text/plain": [
       "array([[3.88120088e-36],\n",
       "       [1.13777095e-36]], dtype=float32)"
      ]
     },
     "execution_count": 15,
     "metadata": {},
     "output_type": "execute_result"
    }
   ],
   "source": [
    "binary_model[3].predict(x_test[0:2])"
   ]
  },
  {
   "cell_type": "code",
   "execution_count": 18,
   "metadata": {},
   "outputs": [
    {
     "ename": "NameError",
     "evalue": "name 'x_train' is not defined",
     "output_type": "error",
     "traceback": [
      "\u001b[1;31m---------------------------------------------------------------------------\u001b[0m",
      "\u001b[1;31mNameError\u001b[0m                                 Traceback (most recent call last)",
      "\u001b[1;32m<ipython-input-18-cc4ab4411252>\u001b[0m in \u001b[0;36m<module>\u001b[1;34m\u001b[0m\n\u001b[1;32m----> 1\u001b[1;33m \u001b[0my_pred\u001b[0m \u001b[1;33m=\u001b[0m \u001b[0mmodel\u001b[0m\u001b[1;33m.\u001b[0m\u001b[0mpredict\u001b[0m\u001b[1;33m(\u001b[0m\u001b[0mx_train\u001b[0m\u001b[1;33m)\u001b[0m\u001b[1;33m\u001b[0m\u001b[1;33m\u001b[0m\u001b[0m\n\u001b[0m",
      "\u001b[1;31mNameError\u001b[0m: name 'x_train' is not defined"
     ]
    }
   ],
   "source": [
    "y_pred = model.predict(x_train)"
   ]
  },
  {
   "cell_type": "code",
   "execution_count": null,
   "metadata": {},
   "outputs": [],
   "source": [
    "k=729"
   ]
  },
  {
   "cell_type": "code",
   "execution_count": 107,
   "metadata": {},
   "outputs": [
    {
     "name": "stdout",
     "output_type": "stream",
     "text": [
      "원래모델 :  9 \n",
      "원래모델확률 :  [0. 0. 0. 0. 0. 0. 0. 0. 0. 1.] \n",
      "바이너리 :  1.6463632e-24\n",
      "0 0.0\n",
      "1 5.6854813e-21\n",
      "2 0.0\n",
      "3 0.0\n",
      "4 3.455557e-05\n",
      "5 0.0\n",
      "6 0.0\n",
      "7 0.0\n",
      "8 1.2415284e-22\n",
      "9 1.6463632e-24\n"
     ]
    }
   ],
   "source": [
    "k+=1\n",
    "for i in [k]:\n",
    "    temp_result = y_notyet[i]\n",
    "    binary_result = binary_model[temp_result].predict(np.array([x_test[i].reshape(28,28,1)]))\n",
    "    a=np.round(y_pred[i],3)\n",
    "    print(\"원래모델 : \",temp_result,'\\n원래모델확률 : ',a,\"\\n바이너리 : \",binary_result[0][0])\n",
    "    print(\"0\",binary_model[0].predict(np.array([x_test[i].reshape(28,28,1)]))[0][0])\n",
    "    print(\"1\",binary_model[1].predict(np.array([x_test[i].reshape(28,28,1)]))[0][0])\n",
    "    print(\"2\",binary_model[2].predict(np.array([x_test[i].reshape(28,28,1)]))[0][0])\n",
    "    print(\"3\",binary_model[3].predict(np.array([x_test[i].reshape(28,28,1)]))[0][0])\n",
    "    print(\"4\",binary_model[4].predict(np.array([x_test[i].reshape(28,28,1)]))[0][0])\n",
    "    print(\"5\",binary_model[5].predict(np.array([x_test[i].reshape(28,28,1)]))[0][0])\n",
    "    print(\"6\",binary_model[6].predict(np.array([x_test[i].reshape(28,28,1)]))[0][0])\n",
    "    print(\"7\",binary_model[7].predict(np.array([x_test[i].reshape(28,28,1)]))[0][0])\n",
    "    print(\"8\",binary_model[8].predict(np.array([x_test[i].reshape(28,28,1)]))[0][0])\n",
    "    print(\"9\",binary_model[9].predict(np.array([x_test[i].reshape(28,28,1)]))[0][0])\n"
   ]
  },
  {
   "cell_type": "code",
   "execution_count": 108,
   "metadata": {},
   "outputs": [
    {
     "data": {
      "image/png": "[encoded data removed]",
      "text/plain": [
       "<Figure size 432x288 with 1 Axes>"
      ]
     },
     "metadata": {
      "needs_background": "light"
     },
     "output_type": "display_data"
    }
   ],
   "source": [
    "plt.imshow(x_test[k])\n",
    "plt.show()"
   ]
  },
  {
   "cell_type": "code",
   "execution_count": 6,
   "metadata": {},
   "outputs": [
    {
     "ename": "NameError",
     "evalue": "name 'y_pred' is not defined",
     "output_type": "error",
     "traceback": [
      "\u001b[1;31m---------------------------------------------------------------------------\u001b[0m",
      "\u001b[1;31mNameError\u001b[0m                                 Traceback (most recent call last)",
      "\u001b[1;32m<ipython-input-6-3aaf935e6aec>\u001b[0m in \u001b[0;36m<module>\u001b[1;34m\u001b[0m\n\u001b[1;32m----> 1\u001b[1;33m \u001b[0my_pred\u001b[0m\u001b[1;33m\u001b[0m\u001b[1;33m\u001b[0m\u001b[0m\n\u001b[0m",
      "\u001b[1;31mNameError\u001b[0m: name 'y_pred' is not defined"
     ]
    }
   ],
   "source": []
  },
  {
   "cell_type": "code",
   "execution_count": 5,
   "metadata": {},
   "outputs": [
    {
     "ename": "KeyboardInterrupt",
     "evalue": "",
     "output_type": "error",
     "traceback": [
      "\u001b[1;31m---------------------------------------------------------------------------\u001b[0m",
      "\u001b[1;31mKeyboardInterrupt\u001b[0m                         Traceback (most recent call last)",
      "\u001b[1;32m<ipython-input-5-650f10d33bd6>\u001b[0m in \u001b[0;36m<module>\u001b[1;34m\u001b[0m\n\u001b[1;32m----> 1\u001b[1;33m \u001b[0my_pred\u001b[0m \u001b[1;33m=\u001b[0m \u001b[0mmodel\u001b[0m\u001b[1;33m.\u001b[0m\u001b[0mpredict\u001b[0m\u001b[1;33m(\u001b[0m\u001b[0mx_test\u001b[0m\u001b[1;33m)\u001b[0m\u001b[1;33m\u001b[0m\u001b[1;33m\u001b[0m\u001b[0m\n\u001b[0m\u001b[0;32m      2\u001b[0m \u001b[0my_pred\u001b[0m \u001b[1;33m=\u001b[0m \u001b[0mnp\u001b[0m\u001b[1;33m.\u001b[0m\u001b[0margmax\u001b[0m\u001b[1;33m(\u001b[0m\u001b[0my_pred\u001b[0m\u001b[1;33m,\u001b[0m\u001b[0maxis\u001b[0m\u001b[1;33m=\u001b[0m\u001b[1;33m-\u001b[0m\u001b[1;36m1\u001b[0m\u001b[1;33m)\u001b[0m\u001b[1;33m\u001b[0m\u001b[1;33m\u001b[0m\u001b[0m\n\u001b[0;32m      3\u001b[0m \u001b[0mdf_sub\u001b[0m \u001b[1;33m=\u001b[0m \u001b[0mpd\u001b[0m\u001b[1;33m.\u001b[0m\u001b[0mread_csv\u001b[0m\u001b[1;33m(\u001b[0m\u001b[1;34m'submission.csv'\u001b[0m\u001b[1;33m,\u001b[0m\u001b[0mindex_col\u001b[0m\u001b[1;33m=\u001b[0m\u001b[1;36m0\u001b[0m\u001b[1;33m)\u001b[0m\u001b[1;33m\u001b[0m\u001b[1;33m\u001b[0m\u001b[0m\n\u001b[0;32m      4\u001b[0m \u001b[0mdf_sub\u001b[0m\u001b[1;33m[\u001b[0m\u001b[1;34m'digit'\u001b[0m\u001b[1;33m]\u001b[0m \u001b[1;33m=\u001b[0m \u001b[0my_pred\u001b[0m\u001b[1;33m\u001b[0m\u001b[1;33m\u001b[0m\u001b[0m\n\u001b[0;32m      5\u001b[0m \u001b[0mdf_sub\u001b[0m\u001b[1;33m.\u001b[0m\u001b[0mto_csv\u001b[0m\u001b[1;33m(\u001b[0m\u001b[1;34m'test_5.csv'\u001b[0m\u001b[1;33m)\u001b[0m\u001b[1;33m\u001b[0m\u001b[1;33m\u001b[0m\u001b[0m\n",
      "\u001b[1;32mC:\\ProgramData\\Anaconda3\\lib\\site-packages\\tensorflow\\python\\keras\\engine\\training.py\u001b[0m in \u001b[0;36m_method_wrapper\u001b[1;34m(self, *args, **kwargs)\u001b[0m\n\u001b[0;32m    128\u001b[0m       raise ValueError('{} is not supported in multi-worker mode.'.format(\n\u001b[0;32m    129\u001b[0m           method.__name__))\n\u001b[1;32m--> 130\u001b[1;33m     \u001b[1;32mreturn\u001b[0m \u001b[0mmethod\u001b[0m\u001b[1;33m(\u001b[0m\u001b[0mself\u001b[0m\u001b[1;33m,\u001b[0m \u001b[1;33m*\u001b[0m\u001b[0margs\u001b[0m\u001b[1;33m,\u001b[0m \u001b[1;33m**\u001b[0m\u001b[0mkwargs\u001b[0m\u001b[1;33m)\u001b[0m\u001b[1;33m\u001b[0m\u001b[1;33m\u001b[0m\u001b[0m\n\u001b[0m\u001b[0;32m    131\u001b[0m \u001b[1;33m\u001b[0m\u001b[0m\n\u001b[0;32m    132\u001b[0m   return tf_decorator.make_decorator(\n",
      "\u001b[1;32mC:\\ProgramData\\Anaconda3\\lib\\site-packages\\tensorflow\\python\\keras\\engine\\training.py\u001b[0m in \u001b[0;36mpredict\u001b[1;34m(self, x, batch_size, verbose, steps, callbacks, max_queue_size, workers, use_multiprocessing)\u001b[0m\n\u001b[0;32m   1597\u001b[0m           \u001b[1;32mfor\u001b[0m \u001b[0mstep\u001b[0m \u001b[1;32min\u001b[0m \u001b[0mdata_handler\u001b[0m\u001b[1;33m.\u001b[0m\u001b[0msteps\u001b[0m\u001b[1;33m(\u001b[0m\u001b[1;33m)\u001b[0m\u001b[1;33m:\u001b[0m\u001b[1;33m\u001b[0m\u001b[1;33m\u001b[0m\u001b[0m\n\u001b[0;32m   1598\u001b[0m             \u001b[0mcallbacks\u001b[0m\u001b[1;33m.\u001b[0m\u001b[0mon_predict_batch_begin\u001b[0m\u001b[1;33m(\u001b[0m\u001b[0mstep\u001b[0m\u001b[1;33m)\u001b[0m\u001b[1;33m\u001b[0m\u001b[1;33m\u001b[0m\u001b[0m\n\u001b[1;32m-> 1599\u001b[1;33m             \u001b[0mtmp_batch_outputs\u001b[0m \u001b[1;33m=\u001b[0m \u001b[0mpredict_function\u001b[0m\u001b[1;33m(\u001b[0m\u001b[0miterator\u001b[0m\u001b[1;33m)\u001b[0m\u001b[1;33m\u001b[0m\u001b[1;33m\u001b[0m\u001b[0m\n\u001b[0m\u001b[0;32m   1600\u001b[0m             \u001b[1;32mif\u001b[0m \u001b[0mdata_handler\u001b[0m\u001b[1;33m.\u001b[0m\u001b[0mshould_sync\u001b[0m\u001b[1;33m:\u001b[0m\u001b[1;33m\u001b[0m\u001b[1;33m\u001b[0m\u001b[0m\n\u001b[0;32m   1601\u001b[0m               \u001b[0mcontext\u001b[0m\u001b[1;33m.\u001b[0m\u001b[0masync_wait\u001b[0m\u001b[1;33m(\u001b[0m\u001b[1;33m)\u001b[0m\u001b[1;33m\u001b[0m\u001b[1;33m\u001b[0m\u001b[0m\n",
      "\u001b[1;32mC:\\ProgramData\\Anaconda3\\lib\\site-packages\\tensorflow\\python\\eager\\def_function.py\u001b[0m in \u001b[0;36m__call__\u001b[1;34m(self, *args, **kwds)\u001b[0m\n\u001b[0;32m    778\u001b[0m       \u001b[1;32melse\u001b[0m\u001b[1;33m:\u001b[0m\u001b[1;33m\u001b[0m\u001b[1;33m\u001b[0m\u001b[0m\n\u001b[0;32m    779\u001b[0m         \u001b[0mcompiler\u001b[0m \u001b[1;33m=\u001b[0m \u001b[1;34m\"nonXla\"\u001b[0m\u001b[1;33m\u001b[0m\u001b[1;33m\u001b[0m\u001b[0m\n\u001b[1;32m--> 780\u001b[1;33m         \u001b[0mresult\u001b[0m \u001b[1;33m=\u001b[0m \u001b[0mself\u001b[0m\u001b[1;33m.\u001b[0m\u001b[0m_call\u001b[0m\u001b[1;33m(\u001b[0m\u001b[1;33m*\u001b[0m\u001b[0margs\u001b[0m\u001b[1;33m,\u001b[0m \u001b[1;33m**\u001b[0m\u001b[0mkwds\u001b[0m\u001b[1;33m)\u001b[0m\u001b[1;33m\u001b[0m\u001b[1;33m\u001b[0m\u001b[0m\n\u001b[0m\u001b[0;32m    781\u001b[0m \u001b[1;33m\u001b[0m\u001b[0m\n\u001b[0;32m    782\u001b[0m       \u001b[0mnew_tracing_count\u001b[0m \u001b[1;33m=\u001b[0m \u001b[0mself\u001b[0m\u001b[1;33m.\u001b[0m\u001b[0m_get_tracing_count\u001b[0m\u001b[1;33m(\u001b[0m\u001b[1;33m)\u001b[0m\u001b[1;33m\u001b[0m\u001b[1;33m\u001b[0m\u001b[0m\n",
      "\u001b[1;32mC:\\ProgramData\\Anaconda3\\lib\\site-packages\\tensorflow\\python\\eager\\def_function.py\u001b[0m in \u001b[0;36m_call\u001b[1;34m(self, *args, **kwds)\u001b[0m\n\u001b[0;32m    812\u001b[0m       \u001b[1;31m# In this case we have not created variables on the first call. So we can\u001b[0m\u001b[1;33m\u001b[0m\u001b[1;33m\u001b[0m\u001b[1;33m\u001b[0m\u001b[0m\n\u001b[0;32m    813\u001b[0m       \u001b[1;31m# run the first trace but we should fail if variables are created.\u001b[0m\u001b[1;33m\u001b[0m\u001b[1;33m\u001b[0m\u001b[1;33m\u001b[0m\u001b[0m\n\u001b[1;32m--> 814\u001b[1;33m       \u001b[0mresults\u001b[0m \u001b[1;33m=\u001b[0m \u001b[0mself\u001b[0m\u001b[1;33m.\u001b[0m\u001b[0m_stateful_fn\u001b[0m\u001b[1;33m(\u001b[0m\u001b[1;33m*\u001b[0m\u001b[0margs\u001b[0m\u001b[1;33m,\u001b[0m \u001b[1;33m**\u001b[0m\u001b[0mkwds\u001b[0m\u001b[1;33m)\u001b[0m\u001b[1;33m\u001b[0m\u001b[1;33m\u001b[0m\u001b[0m\n\u001b[0m\u001b[0;32m    815\u001b[0m       \u001b[1;32mif\u001b[0m \u001b[0mself\u001b[0m\u001b[1;33m.\u001b[0m\u001b[0m_created_variables\u001b[0m\u001b[1;33m:\u001b[0m\u001b[1;33m\u001b[0m\u001b[1;33m\u001b[0m\u001b[0m\n\u001b[0;32m    816\u001b[0m         raise ValueError(\"Creating variables on a non-first call to a function\"\n",
      "\u001b[1;32mC:\\ProgramData\\Anaconda3\\lib\\site-packages\\tensorflow\\python\\eager\\function.py\u001b[0m in \u001b[0;36m__call__\u001b[1;34m(self, *args, **kwargs)\u001b[0m\n\u001b[0;32m   2827\u001b[0m     \u001b[1;32mwith\u001b[0m \u001b[0mself\u001b[0m\u001b[1;33m.\u001b[0m\u001b[0m_lock\u001b[0m\u001b[1;33m:\u001b[0m\u001b[1;33m\u001b[0m\u001b[1;33m\u001b[0m\u001b[0m\n\u001b[0;32m   2828\u001b[0m       \u001b[0mgraph_function\u001b[0m\u001b[1;33m,\u001b[0m \u001b[0margs\u001b[0m\u001b[1;33m,\u001b[0m \u001b[0mkwargs\u001b[0m \u001b[1;33m=\u001b[0m \u001b[0mself\u001b[0m\u001b[1;33m.\u001b[0m\u001b[0m_maybe_define_function\u001b[0m\u001b[1;33m(\u001b[0m\u001b[0margs\u001b[0m\u001b[1;33m,\u001b[0m \u001b[0mkwargs\u001b[0m\u001b[1;33m)\u001b[0m\u001b[1;33m\u001b[0m\u001b[1;33m\u001b[0m\u001b[0m\n\u001b[1;32m-> 2829\u001b[1;33m     \u001b[1;32mreturn\u001b[0m \u001b[0mgraph_function\u001b[0m\u001b[1;33m.\u001b[0m\u001b[0m_filtered_call\u001b[0m\u001b[1;33m(\u001b[0m\u001b[0margs\u001b[0m\u001b[1;33m,\u001b[0m \u001b[0mkwargs\u001b[0m\u001b[1;33m)\u001b[0m  \u001b[1;31m# pylint: disable=protected-access\u001b[0m\u001b[1;33m\u001b[0m\u001b[1;33m\u001b[0m\u001b[0m\n\u001b[0m\u001b[0;32m   2830\u001b[0m \u001b[1;33m\u001b[0m\u001b[0m\n\u001b[0;32m   2831\u001b[0m   \u001b[1;33m@\u001b[0m\u001b[0mproperty\u001b[0m\u001b[1;33m\u001b[0m\u001b[1;33m\u001b[0m\u001b[0m\n",
      "\u001b[1;32mC:\\ProgramData\\Anaconda3\\lib\\site-packages\\tensorflow\\python\\eager\\function.py\u001b[0m in \u001b[0;36m_filtered_call\u001b[1;34m(self, args, kwargs, cancellation_manager)\u001b[0m\n\u001b[0;32m   1841\u001b[0m       \u001b[0;31m`\u001b[0m\u001b[0margs\u001b[0m\u001b[0;31m`\u001b[0m \u001b[1;32mand\u001b[0m\u001b[0;31m \u001b[0m\u001b[0;31m`\u001b[0m\u001b[0mkwargs\u001b[0m\u001b[0;31m`\u001b[0m\u001b[1;33m.\u001b[0m\u001b[1;33m\u001b[0m\u001b[1;33m\u001b[0m\u001b[0m\n\u001b[0;32m   1842\u001b[0m     \"\"\"\n\u001b[1;32m-> 1843\u001b[1;33m     return self._call_flat(\n\u001b[0m\u001b[0;32m   1844\u001b[0m         [t for t in nest.flatten((args, kwargs), expand_composites=True)\n\u001b[0;32m   1845\u001b[0m          if isinstance(t, (ops.Tensor,\n",
      "\u001b[1;32mC:\\ProgramData\\Anaconda3\\lib\\site-packages\\tensorflow\\python\\eager\\function.py\u001b[0m in \u001b[0;36m_call_flat\u001b[1;34m(self, args, captured_inputs, cancellation_manager)\u001b[0m\n\u001b[0;32m   1921\u001b[0m         and executing_eagerly):\n\u001b[0;32m   1922\u001b[0m       \u001b[1;31m# No tape is watching; skip to running the function.\u001b[0m\u001b[1;33m\u001b[0m\u001b[1;33m\u001b[0m\u001b[1;33m\u001b[0m\u001b[0m\n\u001b[1;32m-> 1923\u001b[1;33m       return self._build_call_outputs(self._inference_function.call(\n\u001b[0m\u001b[0;32m   1924\u001b[0m           ctx, args, cancellation_manager=cancellation_manager))\n\u001b[0;32m   1925\u001b[0m     forward_backward = self._select_forward_and_backward_functions(\n",
      "\u001b[1;32mC:\\ProgramData\\Anaconda3\\lib\\site-packages\\tensorflow\\python\\eager\\function.py\u001b[0m in \u001b[0;36mcall\u001b[1;34m(self, ctx, args, cancellation_manager)\u001b[0m\n\u001b[0;32m    543\u001b[0m       \u001b[1;32mwith\u001b[0m \u001b[0m_InterpolateFunctionError\u001b[0m\u001b[1;33m(\u001b[0m\u001b[0mself\u001b[0m\u001b[1;33m)\u001b[0m\u001b[1;33m:\u001b[0m\u001b[1;33m\u001b[0m\u001b[1;33m\u001b[0m\u001b[0m\n\u001b[0;32m    544\u001b[0m         \u001b[1;32mif\u001b[0m \u001b[0mcancellation_manager\u001b[0m \u001b[1;32mis\u001b[0m \u001b[1;32mNone\u001b[0m\u001b[1;33m:\u001b[0m\u001b[1;33m\u001b[0m\u001b[1;33m\u001b[0m\u001b[0m\n\u001b[1;32m--> 545\u001b[1;33m           outputs = execute.execute(\n\u001b[0m\u001b[0;32m    546\u001b[0m               \u001b[0mstr\u001b[0m\u001b[1;33m(\u001b[0m\u001b[0mself\u001b[0m\u001b[1;33m.\u001b[0m\u001b[0msignature\u001b[0m\u001b[1;33m.\u001b[0m\u001b[0mname\u001b[0m\u001b[1;33m)\u001b[0m\u001b[1;33m,\u001b[0m\u001b[1;33m\u001b[0m\u001b[1;33m\u001b[0m\u001b[0m\n\u001b[0;32m    547\u001b[0m               \u001b[0mnum_outputs\u001b[0m\u001b[1;33m=\u001b[0m\u001b[0mself\u001b[0m\u001b[1;33m.\u001b[0m\u001b[0m_num_outputs\u001b[0m\u001b[1;33m,\u001b[0m\u001b[1;33m\u001b[0m\u001b[1;33m\u001b[0m\u001b[0m\n",
      "\u001b[1;32mC:\\ProgramData\\Anaconda3\\lib\\site-packages\\tensorflow\\python\\eager\\execute.py\u001b[0m in \u001b[0;36mquick_execute\u001b[1;34m(op_name, num_outputs, inputs, attrs, ctx, name)\u001b[0m\n\u001b[0;32m     57\u001b[0m   \u001b[1;32mtry\u001b[0m\u001b[1;33m:\u001b[0m\u001b[1;33m\u001b[0m\u001b[1;33m\u001b[0m\u001b[0m\n\u001b[0;32m     58\u001b[0m     \u001b[0mctx\u001b[0m\u001b[1;33m.\u001b[0m\u001b[0mensure_initialized\u001b[0m\u001b[1;33m(\u001b[0m\u001b[1;33m)\u001b[0m\u001b[1;33m\u001b[0m\u001b[1;33m\u001b[0m\u001b[0m\n\u001b[1;32m---> 59\u001b[1;33m     tensors = pywrap_tfe.TFE_Py_Execute(ctx._handle, device_name, op_name,\n\u001b[0m\u001b[0;32m     60\u001b[0m                                         inputs, attrs, num_outputs)\n\u001b[0;32m     61\u001b[0m   \u001b[1;32mexcept\u001b[0m \u001b[0mcore\u001b[0m\u001b[1;33m.\u001b[0m\u001b[0m_NotOkStatusException\u001b[0m \u001b[1;32mas\u001b[0m \u001b[0me\u001b[0m\u001b[1;33m:\u001b[0m\u001b[1;33m\u001b[0m\u001b[1;33m\u001b[0m\u001b[0m\n",
      "\u001b[1;31mKeyboardInterrupt\u001b[0m: "
     ]
    }
   ],
   "source": [
    "y_pred = model.predict(x_test)\n",
    "y_pred = np.argmax(y_pred,axis=-1)\n",
    "df_sub = pd.read_csv('submission.csv',index_col=0)\n",
    "df_sub['digit'] = y_pred\n",
    "df_sub.to_csv('test_5.csv')\n",
    "y_pred"
   ]
  },
  {
   "cell_type": "code",
   "execution_count": 27,
   "metadata": {},
   "outputs": [
    {
     "data": {
      "text/plain": [
       "array([6, 9, 8, ..., 6, 8, 0], dtype=int64)"
      ]
     },
     "execution_count": 27,
     "metadata": {},
     "output_type": "execute_result"
    }
   ],
   "source": []
  },
  {
   "cell_type": "code",
   "execution_count": 223,
   "metadata": {},
   "outputs": [
    {
     "data": {
      "image/png": "[encoded data removed]",
      "text/plain": [
       "<Figure size 432x288 with 1 Axes>"
      ]
     },
     "metadata": {
      "needs_background": "light"
     },
     "output_type": "display_data"
    },
    {
     "data": {
      "image/png": "[encoded data removed]",
      "text/plain": [
       "<Figure size 432x288 with 1 Axes>"
      ]
     },
     "metadata": {
      "needs_background": "light"
     },
     "output_type": "display_data"
    }
   ],
   "source": [
    "k=5\n",
    "df = pd.read_csv(\"preprocessing_150.csv\",index_col=[0])\n",
    "df2 = pd.read_csv(\"train.csv\",index_col=[0])\n",
    "plt.imshow(df.values[k,2:].reshape(28,28).astype('float32'))\n",
    "plt.show()\n",
    "df2 = pd.read_csv(\"train.csv\",index_col=[0])\n",
    "plt.imshow(df2.values[k,2:].reshape(28,28).astype('float32'))\n",
    "plt.show()"
   ]
  },
  {
   "cell_type": "code",
   "execution_count": 218,
   "metadata": {},
   "outputs": [
    {
     "data": {
      "image/png": "[encoded data removed]",
      "text/plain": [
       "<Figure size 432x288 with 1 Axes>"
      ]
     },
     "metadata": {
      "needs_background": "light"
     },
     "output_type": "display_data"
    }
   ],
   "source": []
  },
  {
   "cell_type": "code",
   "execution_count": null,
   "metadata": {},
   "outputs": [],
   "source": []
  },
  {
   "cell_type": "code",
   "execution_count": null,
   "metadata": {},
   "outputs": [],
   "source": []
  },
  {
   "cell_type": "code",
   "execution_count": null,
   "metadata": {},
   "outputs": [],
   "source": []
  },
  {
   "cell_type": "code",
   "execution_count": null,
   "metadata": {},
   "outputs": [],
   "source": []
  },
  {
   "cell_type": "code",
   "execution_count": null,
   "metadata": {},
   "outputs": [],
   "source": []
  },
  {
   "cell_type": "code",
   "execution_count": null,
   "metadata": {},
   "outputs": [],
   "source": []
  },
  {
   "cell_type": "code",
   "execution_count": null,
   "metadata": {},
   "outputs": [],
   "source": []
  },
  {
   "cell_type": "code",
   "execution_count": null,
   "metadata": {},
   "outputs": [],
   "source": []
  },
  {
   "cell_type": "code",
   "execution_count": null,
   "metadata": {},
   "outputs": [],
   "source": []
  },
  {
   "cell_type": "code",
   "execution_count": null,
   "metadata": {},
   "outputs": [],
   "source": []
  },
  {
   "cell_type": "code",
   "execution_count": null,
   "metadata": {},
   "outputs": [],
   "source": []
  },
  {
   "cell_type": "code",
   "execution_count": null,
   "metadata": {},
   "outputs": [],
   "source": [
    "inputs = Input(shape=(28,28,1))\n",
    "conv1_1 = Conv2D(64,kernel_size=7)"
   ]
  },
  {
   "cell_type": "code",
   "execution_count": null,
   "metadata": {},
   "outputs": [],
   "source": []
  },
  {
   "cell_type": "code",
   "execution_count": null,
   "metadata": {},
   "outputs": [],
   "source": []
  },
  {
   "cell_type": "code",
   "execution_count": null,
   "metadata": {},
   "outputs": [],
   "source": []
  },
  {
   "cell_type": "code",
   "execution_count": null,
   "metadata": {},
   "outputs": [],
   "source": []
  },
  {
   "cell_type": "code",
   "execution_count": null,
   "metadata": {},
   "outputs": [],
   "source": []
  },
  {
   "cell_type": "code",
   "execution_count": null,
   "metadata": {},
   "outputs": [],
   "source": []
  },
  {
   "cell_type": "code",
   "execution_count": null,
   "metadata": {},
   "outputs": [],
   "source": []
  },
  {
   "cell_type": "code",
   "execution_count": null,
   "metadata": {},
   "outputs": [],
   "source": []
  }
 ],
 "metadata": {
  "kernelspec": {
   "display_name": "Python 3",
   "language": "python",
   "name": "python3"
  },
  "language_info": {
   "codemirror_mode": {
    "name": "ipython",
    "version": 3
   },
   "file_extension": ".py",
   "mimetype": "text/x-python",
   "name": "python",
   "nbconvert_exporter": "python",
   "pygments_lexer": "ipython3",
   "version": "3.8.5"
  }
 },
 "nbformat": 4,
 "nbformat_minor": 4
}
